{
 "cells": [
  {
   "cell_type": "code",
   "execution_count": 5,
   "id": "ced37747-77e2-4b83-a6f0-d0bc4c55c13a",
   "metadata": {},
   "outputs": [
    {
     "name": "stdout",
     "output_type": "stream",
     "text": [
      "2\n"
     ]
    }
   ],
   "source": [
    "def count_vowels(word):\n",
    "    count = 0\n",
    "    for i in word:\n",
    "        if i in ('a', 'e', 'i', 'o', 'u'):\n",
    "            count += 1\n",
    "    return count    \n",
    "        \n",
    "print(count_vowels('hello'))"
   ]
  },
  {
   "cell_type": "code",
   "execution_count": 14,
   "id": "d47242cc-f35d-41a0-bd83-5f9d5a668daf",
   "metadata": {},
   "outputs": [
    {
     "name": "stdout",
     "output_type": "stream",
     "text": [
      "TIGER\n",
      "ELEPHANT\n",
      "MONKEY\n",
      "ZEBRA\n",
      "PANTHER\n"
     ]
    }
   ],
   "source": [
    "animals = ['tiger', 'elephant', 'monkey', 'zebra', 'panther']\n",
    "\n",
    "for i in animals:\n",
    "    print(i.upper())"
   ]
  },
  {
   "cell_type": "code",
   "execution_count": 17,
   "id": "5d9d5e21-2764-41a2-909f-82bbd865e40b",
   "metadata": {},
   "outputs": [
    {
     "name": "stdout",
     "output_type": "stream",
     "text": [
      "1, odd\n",
      "2, even\n",
      "3, odd\n",
      "4, even\n",
      "5, odd\n",
      "6, even\n",
      "7, odd\n",
      "8, even\n",
      "9, odd\n",
      "10, even\n",
      "11, odd\n",
      "12, even\n",
      "13, odd\n",
      "14, even\n",
      "15, odd\n",
      "16, even\n",
      "17, odd\n",
      "18, even\n",
      "19, odd\n",
      "20, even\n"
     ]
    }
   ],
   "source": [
    "for i in range(1,21):\n",
    "    if i % 2 == 1:\n",
    "        print(str(i) + ', odd')\n",
    "    elif i % 2 == 0:\n",
    "        print(str(i) + ', even')"
   ]
  },
  {
   "cell_type": "code",
   "execution_count": null,
   "id": "d04d2ce2-235a-4d9b-8cb4-33bf338f0392",
   "metadata": {},
   "outputs": [],
   "source": [
    "def sum_of_integers(a, b):\n",
    "    total = a + b\n",
    "    return total"
    "sum_of_integers(4, 5)"
   ]
  }
 ],
 "metadata": {
  "kernelspec": {
   "display_name": "Python 3 (ipykernel)",
   "language": "python",
   "name": "python3"
  },
  "language_info": {
   "codemirror_mode": {
    "name": "ipython",
    "version": 3
   },
   "file_extension": ".py",
   "mimetype": "text/x-python",
   "name": "python",
   "nbconvert_exporter": "python",
   "pygments_lexer": "ipython3",
   "version": "3.9.0"
  }
 },
 "nbformat": 4,
 "nbformat_minor": 5
}
